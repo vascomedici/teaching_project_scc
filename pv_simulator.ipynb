{
  "nbformat": 4,
  "nbformat_minor": 0,
  "metadata": {
    "colab": {
      "name": "pv_simulator.ipynb",
      "provenance": [],
      "toc_visible": true,
      "authorship_tag": "ABX9TyOM1MyIQYkkNceHL0/xMx45",
      "include_colab_link": true
    },
    "kernelspec": {
      "name": "python3",
      "display_name": "Python 3"
    },
    "language_info": {
      "name": "python"
    }
  },
  "cells": [
    {
      "cell_type": "markdown",
      "metadata": {
        "id": "view-in-github",
        "colab_type": "text"
      },
      "source": [
        "<a href=\"https://colab.research.google.com/github/vascomedici/teaching_project_scc/blob/main/pv_simulator.ipynb\" target=\"_parent\"><img src=\"https://colab.research.google.com/assets/colab-badge.svg\" alt=\"Open In Colab\"/></a>"
      ]
    },
    {
      "cell_type": "markdown",
      "metadata": {
        "id": "Ir_4x36TY3rg"
      },
      "source": [
        "# 1. PV plant simulator\n",
        "This first example is a **simple PV plant simulator**, which simulates the output of an unshaded PV plant, starting from a location and a weather file that contains T and GHI. We will use the [pvlib library](https://pvlib-python.readthedocs.io/) to help us with some calculations. This is a very powerful PV simulation library that can be used to simulate PV plants in detail. To keep it simple, here we don't use it to its full capabilities."
      ]
    },
    {
      "cell_type": "markdown",
      "metadata": {
        "id": "YQ6l2iGKZsFP"
      },
      "source": [
        "First, we load the **weather csv** file into a pandas dataframe"
      ]
    },
    {
      "cell_type": "code",
      "metadata": {
        "cellView": "code",
        "id": "ZGexddXBHKCY"
      },
      "source": [
        "%%capture\n",
        "!pip install pvlib\n",
        "!gdown --id 1Psvmk5z3zlB8YBmK5PR0vd4J0RLirgKG # download meteo data from shared gdrive file\n",
        "import pvlib\n",
        "import pandas as pd\n",
        "import numpy as np\n",
        "from datetime import datetime\n",
        "import matplotlib.pyplot as plt\n",
        "\n",
        "date_parser = lambda x: datetime.strptime(x, '%d-%b-%Y %H:%M:%S')\n",
        "meteo = pd.read_csv('meteo.csv', header=0, parse_dates=[0], date_parser=date_parser, index_col=0)"
      ],
      "execution_count": null,
      "outputs": []
    },
    {
      "cell_type": "markdown",
      "metadata": {
        "id": "hUdVLo5U29As"
      },
      "source": [
        "Let's plot it"
      ]
    },
    {
      "cell_type": "code",
      "metadata": {
        "id": "kR1Xcj-Z28FK"
      },
      "source": [
        "meteo.plot(subplots=True);"
      ],
      "execution_count": null,
      "outputs": []
    },
    {
      "cell_type": "markdown",
      "metadata": {
        "id": "yg-nj6IYZ0PS"
      },
      "source": [
        "We define the plant location and orientation"
      ]
    },
    {
      "cell_type": "code",
      "metadata": {
        "id": "lTKoCe73HU-P"
      },
      "source": [
        "# location\n",
        "latitude = 47.03\n",
        "longitude = 8.296\n",
        "altitude = 460\n",
        "location = pvlib.location.Location(latitude, longitude, 'Etc/GMT+1', altitude)\n",
        "\n",
        "# PV plant\n",
        "p_module = 300  # potenza del modulo in 300W (1m x 1.7m) (non cambiare)\n",
        "num_modules = 66  # numero di moduli\n",
        "tilt = 15\n",
        "azimuth = 193\n",
        "albedo = 0.1 # albedo of the ground for ground reflected irradiance"
      ],
      "execution_count": null,
      "outputs": []
    },
    {
      "cell_type": "markdown",
      "metadata": {
        "id": "NYo98DyCaKPN"
      },
      "source": [
        "We now calculate the irradiance on the plane of array in the following way:\n",
        "*   We calculate the sun position based on location and time\n",
        "*   We split GHI into its direct and diffuse components\n",
        "*   And project them on the plane of array (POA)"
      ]
    },
    {
      "cell_type": "code",
      "metadata": {
        "id": "oN2RT-u8aIyE"
      },
      "source": [
        "sun_pos = location.get_solarposition(meteo.index)\n",
        "ghi = meteo['GHI']\n",
        "dni = pvlib.irradiance.dirint(meteo['GHI'], sun_pos['zenith'], sun_pos.index)\n",
        "dni.fillna(0, inplace=True)\n",
        "dhi = ghi - np.cos(np.deg2rad(sun_pos['zenith'])) * dni\n",
        "\n",
        "\n",
        "irr = pvlib.irradiance.get_total_irradiance(tilt, azimuth, sun_pos['zenith'], sun_pos['azimuth'], dni, ghi, dhi,\n",
        "                                      albedo=albedo, model_perez='allsitescomposite1990')"
      ],
      "execution_count": null,
      "outputs": []
    },
    {
      "cell_type": "markdown",
      "metadata": {
        "id": "xI8ObYSacVh4"
      },
      "source": [
        "We calculate the power of the PV plant with a simplified model that takes into account temperature and inverter efficiency.\n",
        "We calculate the cell temperature using the [Sandia model](https://pvlib-python.readthedocs.io/en/stable/generated/pvlib.temperature.sapm_cell.html), which is based on these two empirical equations:\n",
        "\n",
        "$$T_{m} = E \\cdot \\exp (a + b \\cdot WS) + T_{a}$$\n",
        "$$T_{C} = T_{m} + \\frac{E}{E_{0}} \\Delta T$$\n",
        "\n",
        "We then correct for module and inverter efficiency as a function of GHI using the following formula:\n",
        "\n",
        "$$ \\eta = k2 + k3 \\cdot \\log(GHI / GHI_{STC}) +k4 \\cdot\\log(GHI/GHI_{STC})^2 $$\n"
      ]
    },
    {
      "cell_type": "code",
      "metadata": {
        "id": "uwm7nqKCcWea"
      },
      "source": [
        "# correction for angle of incidence using IAM model\n",
        "b0 = 0.05\n",
        "aoi = pvlib.irradiance.aoi(tilt, azimuth, sun_pos['zenith'], sun_pos['azimuth'])  # angle of incidence\n",
        "iam = np.maximum(1 - b0 * (1 / np.cos(np.minimum(np.deg2rad(aoi), np.pi/2)) - 1), 0)\n",
        "irr['poa_eff'] = iam * irr['poa_direct'] + 0.95 * (irr['poa_diffuse'])\n",
        "\n",
        "# correction for temperature\n",
        "gamma = -0.34 / 100  # power loss as function of temperature\n",
        "t_nom = 25  # nominal temperature\n",
        "a=-3.56 #\n",
        "b=-0.075\n",
        "deltaT=3\n",
        "wind_speed=1\n",
        "i_stc = 1000\n",
        "\n",
        "t_cell = pvlib.temperature.sapm_cell(irr['poa_global'], meteo['Ta'], wind_speed, a, b, deltaT, irrad_ref=i_stc)\n",
        "irr['poa_eff_tc'] = irr['poa_eff'] * (1 + gamma * (t_bom - t_nom))\n",
        "\n",
        "# correction for low irrandiance power losses of module and inverter\n",
        "k2 = 0.942\n",
        "k3 = -5.02e-2\n",
        "k4 = -3.77e-2\n",
        "np.seterr(divide = 'ignore') # disable divide by zero warning \n",
        "eta = np.maximum(0.1, (k2 + k3 * np.log(irr['poa_eff'] / i_stc) + k4 * np.log(irr['poa_eff'] / i_stc)**2).fillna(0))\n",
        "np.seterr(divide = 'warn') \n",
        "irr['poa_eff_tc_li'] = irr['poa_eff_tc'] * eta"
      ],
      "execution_count": null,
      "outputs": []
    },
    {
      "cell_type": "markdown",
      "metadata": {
        "id": "-ntv80qr2EZt"
      },
      "source": [
        "We calculate the power of the PV plant"
      ]
    },
    {
      "cell_type": "code",
      "metadata": {
        "id": "ieiVdmcT2F0k"
      },
      "source": [
        "# power of plant in W\n",
        "p_plant = p_module * irr['poa_eff_tc_li'] / 1000 * num_modules\n",
        "p_plant.plot()\n",
        "\n",
        "# calculate the energy of the plant in kWh\n",
        "e_plant = p_plant / 1000 * (p_plant.index[1]- p_plant.index[0]).seconds / 3600 # W to kWh\n",
        "\n",
        "# here this is useless\n",
        "save_path = 'energy_pv.csv'\n",
        "e_plant.to_csv(save_path, sep=',', date_format='%Y-%m-%dT%H:%M:%S', float_format='%.03f')\n",
        "\n",
        "# this downloads the csv file onto your local machine\n",
        "# from google.colab import files\n",
        "# files.download('energy_pv.csv')"
      ],
      "execution_count": null,
      "outputs": []
    },
    {
      "cell_type": "markdown",
      "metadata": {
        "id": "HntViJtsSxWx"
      },
      "source": [
        "# 2. Consumption data exploration\n",
        "In the following cells, we dowload the consumption data from the aparments into a pandas dataframe and plot them"
      ]
    },
    {
      "cell_type": "code",
      "metadata": {
        "id": "hoTfHg0TSzCg"
      },
      "source": [
        "!gdown --id 1F8rP6NoZiTUsu9nNEMN3suIhStaSCn78\n",
        "date_parser = lambda x: datetime.strptime(x, '%d/%m/%Y %H:%M')\n",
        "consumption = pd.read_csv('dati_consumo_15min.csv', header=0, parse_dates=[0], date_parser=date_parser, index_col=0)\n",
        "consumption.head()"
      ],
      "execution_count": null,
      "outputs": []
    },
    {
      "cell_type": "code",
      "metadata": {
        "id": "OY5KvXBTS9Q1"
      },
      "source": [
        "fig, ax = plt.subplots(1,2,figsize=(30,5))\n",
        "E15 = consumption.sum(axis=1)\n",
        "E15.plot(ax=ax[0])\n",
        "ax[0].set_title('full year')\n",
        "ax[0].set_xlabel('total consumption [kWh]')\n",
        "E15.iloc[consumption.index<'2019-01-07 00:15:00'].plot(ax=ax[1])\n",
        "ax[0].set_title('full year')\n",
        "ax[0].set_xlabel('total consumption [kWh]')\n",
        "ax[1].set_title('first 7 days')\n",
        "ax[1].set_xlabel('total consumption [kWh]')"
      ],
      "execution_count": null,
      "outputs": []
    },
    {
      "cell_type": "markdown",
      "metadata": {
        "id": "xiBO4yRkTKUU"
      },
      "source": [
        "# 3. Return on investment estimate for PV plant\n",
        "We estimate the return on investment of a PV plant, given:\n",
        "\n",
        "*   Production profile (calculated above)\n",
        "*   Cost of the PV plant\n",
        "*   Operation and maintenance costs\n",
        "*   Energy prices\n",
        "*   Self-consumption\n",
        "*   Cost of capital\n",
        "*   Expected life of the PV plant\n",
        "\n",
        "We first install the necessary libraries and define the parameters"
      ]
    },
    {
      "cell_type": "code",
      "metadata": {
        "id": "lA9I9FhbTQ3N"
      },
      "source": [
        "%%capture\n",
        "!pip install numpy_financial\n",
        "import numpy_financial as npf  # used to calculate financial figures\n",
        "o_and_m = 30  # operation and maintenace costs [CHF/kW]\n",
        "wacc = 0.02  # weighted average cost of capital\n",
        "life_span = 25\n",
        "degradation = 0.2  # 20% after 25years\n",
        "\n",
        "self_consumption = 0.6  # 60%\n",
        "p_sell = 0.06\n",
        "p_buy = 0.21\n",
        "p_pv = p_buy * self_consumption + p_sell * (1 - self_consumption)\n",
        "\n",
        "plant_size = p_module * num_modules / 1000\n",
        "plant_cost = 34520"
      ],
      "execution_count": null,
      "outputs": []
    },
    {
      "cell_type": "markdown",
      "metadata": {
        "id": "phR5B5DNLEeW"
      },
      "source": [
        "Let's **calculate the PV production during the 25 years life span and take into account the degratation** of the PV plant.\n",
        "Total degradation after life span should be 20%, we can calculate the degradation at each time step using the following formulae:\n",
        "\n",
        "$$(1-d) = (1-d_m)^{mt}$$\n",
        "$$d_m = 1-(1-d)^{1/mt}$$\n",
        "\n",
        "where $d$ is the total degradation at the end of the life, $t$ is the life span in years and $m$ is the number of steps per year"
      ]
    },
    {
      "cell_type": "code",
      "metadata": {
        "id": "gYOH8KjnLyoa"
      },
      "source": [
        "e_ls = np.tile(e_plant, life_span)\n",
        "d_m = 1 - (1-degradation)**(1/len(e_ls))\n",
        "eta = (1-d_m)**np.arange(len(e_ls))\n",
        "e_ls *= eta\n",
        "\n",
        "plt.figure(figsize=(20,12))\n",
        "plt.plot(e_ls);"
      ],
      "execution_count": null,
      "outputs": []
    },
    {
      "cell_type": "markdown",
      "metadata": {
        "id": "a7Fun6MXT2mM"
      },
      "source": [
        "Now we perform a very simplistic financial analysis to estimate the return on investment.\n",
        "First, we calculate all costs and revenues. Then we calculate the free cash flow for the life of the PV system and then calculate the net present value for each year to calculate after how many years we reach a break-even condition. In this very simple analysis, we don't take taxes into account.\n",
        "\n",
        "##NPV\n",
        "In economics, the net present value (abbreviated as NPV) is a method used to define the present value of an expected series of cash flows not only by adding them up in the accounts but by discounting them on the basis of the rate of return.\n",
        "$$\\mathrm{NPV}(i, N) = \\sum_{t=0}^N \\frac{R_t}{(1+i)^t}$$\n",
        "\n",
        "##IRR\n",
        "The Internal Rate of Return (IRR) is the rate of the exponential law that makes a financial asset fair.\n",
        "\n",
        "$$\\mathrm{NPV}(IRR, N) = 0$$"
      ]
    },
    {
      "cell_type": "code",
      "metadata": {
        "id": "3VNk2lkHTn6H"
      },
      "source": [
        "years = range(life_span)\n",
        "capex = plant_cost\n",
        "opex = np.ones(life_span) * o_and_m * plant_size\n",
        "costi = np.hstack([capex, opex])\n",
        "\n",
        "yearly_production = np.sum(np.reshape(e_ls, (life_span, -1)), axis=1)\n",
        "revenues = yearly_production * p_pv\n",
        "\n",
        "fcf = np.hstack([0, revenues]) - costi  # free cash flow\n",
        "npv = np.array([npf.npv(wacc, fcf[:i]) for i in np.arange(life_span + 1)])\n",
        "irr = npf.irr(fcf)\n",
        "\n",
        "financials = pd.DataFrame(data={'years': np.arange(26), 'NPV': npv, 'FCF': fcf}).set_index('years')\n",
        "\n",
        "fig, ax = plt.subplots(1,1,figsize=(20,12))\n",
        "\n",
        "financials.plot(kind='bar', title='IRR at {} years: {:.2%}'.format(life_span, irr), ax=ax).set_ylabel('CHF')"
      ],
      "execution_count": null,
      "outputs": []
    }
  ]
}